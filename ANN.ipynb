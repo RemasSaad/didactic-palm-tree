{
 "cells": [
  {
   "cell_type": "code",
   "execution_count": 22,
   "id": "86f0e6cc-1a01-4e18-84e1-de42a218b151",
   "metadata": {},
   "outputs": [],
   "source": [
    "import numpy as np\n",
    "import random"
   ]
  },
  {
   "cell_type": "code",
   "execution_count": 23,
   "id": "ce0eb35c-feb2-4e39-946f-4861d0e303f5",
   "metadata": {},
   "outputs": [
    {
     "name": "stdout",
     "output_type": "stream",
     "text": [
      "[-0.2268472338226436, -0.1439153198467823, -0.42725229355240313, -0.29515625321865435, 0.2939404113335615, 0.06746390383075229, 0.35811134958832114, -0.3265476218013609]\n"
     ]
    }
   ],
   "source": [
    "i1,i2=0.05,0.1\n",
    "weights = [random.uniform(-0.5, 0.5) for _ in range(8)]\n",
    "print(weights)\n",
    "w1, w2, w3, w4, w5, w6, w7, w8 = weights\n",
    "b1,b2=0.5,0.7\n",
    "actO1,actO2=0.01,0.99"
   ]
  },
  {
   "cell_type": "code",
   "execution_count": 24,
   "id": "87886912-500a-4626-b698-8cc6ec89c50b",
   "metadata": {},
   "outputs": [
    {
     "name": "stdout",
     "output_type": "stream",
     "text": [
      "0.447413610934697 0.4034468943073155\n"
     ]
    }
   ],
   "source": [
    "h1=i1*w1+i1*w2+b1\n",
    "h2=i2*w3+i2*w4+b1\n",
    "h1 = np.tanh(h1)\n",
    "h2= np.tanh(h2)\n",
    "print(h1,h2)"
   ]
  },
  {
   "cell_type": "code",
   "execution_count": 25,
   "id": "e234ef0f-43f4-4264-a2ee-39a19feba81d",
   "metadata": {},
   "outputs": [
    {
     "name": "stdout",
     "output_type": "stream",
     "text": [
      "0.6971310850151564 0.6123885706988986\n"
     ]
    }
   ],
   "source": [
    "o1=h1*w5+h1*w6+b2\n",
    "o2=h2*w7+h2*w8+b2\n",
    "o1 = np.tanh(o1)\n",
    "o2= np.tanh(o2)\n",
    "print(o1,o2)"
   ]
  },
  {
   "cell_type": "code",
   "execution_count": 26,
   "id": "3e179ced-eb6e-430b-a356-abcdc10f9a4b",
   "metadata": {},
   "outputs": [
    {
     "name": "stdout",
     "output_type": "stream",
     "text": [
      "0.6147395195329267\n"
     ]
    }
   ],
   "source": [
    "squared_error1 = (actO1 - o1) ** 2\n",
    "squared_error2 = (actO2 - o2) ** 2\n",
    "totelE=squared_error1+squared_error2\n",
    "print(totelE)"
   ]
  },
  {
   "cell_type": "code",
   "execution_count": null,
   "id": "529c2ca9-e9dd-4589-a019-316c5b378b86",
   "metadata": {},
   "outputs": [],
   "source": [
    "\n"
   ]
  },
  {
   "cell_type": "code",
   "execution_count": null,
   "id": "1e89413f-86b4-409f-ae34-1dba3fadc11f",
   "metadata": {},
   "outputs": [],
   "source": []
  }
 ],
 "metadata": {
  "kernelspec": {
   "display_name": "Python 3 (ipykernel)",
   "language": "python",
   "name": "python3"
  },
  "language_info": {
   "codemirror_mode": {
    "name": "ipython",
    "version": 3
   },
   "file_extension": ".py",
   "mimetype": "text/x-python",
   "name": "python",
   "nbconvert_exporter": "python",
   "pygments_lexer": "ipython3",
   "version": "3.12.7"
  }
 },
 "nbformat": 4,
 "nbformat_minor": 5
}
