{
 "cells": [
  {
   "cell_type": "code",
   "execution_count": 40,
   "id": "86f0e6cc-1a01-4e18-84e1-de42a218b151",
   "metadata": {},
   "outputs": [],
   "source": [
    "import numpy as np\n",
    "import random"
   ]
  },
  {
   "cell_type": "code",
   "execution_count": 41,
   "id": "ce0eb35c-feb2-4e39-946f-4861d0e303f5",
   "metadata": {},
   "outputs": [
    {
     "name": "stdout",
     "output_type": "stream",
     "text": [
      "[0.08674656408356374, -0.2270033271596611, -0.018192375216803502, 0.22851653341095268, -0.2672083783403786, 0.4001997965154176, 0.27920206636948697, -0.46259272477690117]\n"
     ]
    }
   ],
   "source": [
    "i1,i2=0.05,0.1\n",
    "weights = [random.uniform(-0.5, 0.5) for _ in range(8)]\n",
    "print(weights)\n",
    "w1, w2, w3, w4, w5, w6, w7, w8 = weights\n",
    "b1,b2=0.5,0.7\n",
    "actO1,actO2=0.01,0.99\n",
    "rate =0.5"
   ]
  },
  {
   "cell_type": "code",
   "execution_count": 42,
   "id": "87886912-500a-4626-b698-8cc6ec89c50b",
   "metadata": {},
   "outputs": [
    {
     "name": "stdout",
     "output_type": "stream",
     "text": [
      "0.45658408598087374 0.47849644041429656\n"
     ]
    }
   ],
   "source": [
    "h1=i1*w1+i1*w2+b1\n",
    "h2=i2*w3+i2*w4+b1\n",
    "h1 = np.tanh(h1)\n",
    "h2= np.tanh(h2)\n",
    "print(h1,h2)"
   ]
  },
  {
   "cell_type": "code",
   "execution_count": 43,
   "id": "e234ef0f-43f4-4264-a2ee-39a19feba81d",
   "metadata": {},
   "outputs": [
    {
     "name": "stdout",
     "output_type": "stream",
     "text": [
      "0.6415018988135477 0.5457077443283939\n"
     ]
    }
   ],
   "source": [
    "o1=h1*w5+h1*w6+b2\n",
    "o2=h2*w7+h2*w8+b2\n",
    "o1 = np.tanh(o1)\n",
    "o2= np.tanh(o2)\n",
    "print(o1,o2)"
   ]
  },
  {
   "cell_type": "code",
   "execution_count": 44,
   "id": "3e179ced-eb6e-430b-a356-abcdc10f9a4b",
   "metadata": {},
   "outputs": [
    {
     "name": "stdout",
     "output_type": "stream",
     "text": [
      "0.59619025665488\n"
     ]
    }
   ],
   "source": [
    "squared_error1 = (actO1 - o1) ** 2\n",
    "squared_error2 = (actO2 - o2) ** 2\n",
    "totelE=squared_error1+squared_error2\n",
    "print(totelE)"
   ]
  },
  {
   "cell_type": "code",
   "execution_count": 45,
   "id": "529c2ca9-e9dd-4589-a019-316c5b378b86",
   "metadata": {},
   "outputs": [
    {
     "name": "stdout",
     "output_type": "stream",
     "text": [
      "-0.3003634706426122 0.42534498922673464 0.2444557969848576 -0.43624076557523783\n"
     ]
    }
   ],
   "source": [
    "#backprop output layer\n",
    "n_w5=w5-rate*((o1-actO1)*o1*(1-o1)*h1)\n",
    "\n",
    "n_w6=w6-rate*((o2-actO2)*o2*(1-o2)*h1)\n",
    "\n",
    "n_w7=w7-rate*((o1-actO1)*o1*(1-o1)*h2)\n",
    "\n",
    "n_w8=w8-rate*((o2-actO2)*o2*(1-o2)*h2)\n",
    "print(n_w5,n_w6,n_w7,n_w8)"
   ]
  },
  {
   "cell_type": "code",
   "execution_count": 46,
   "id": "1e89413f-86b4-409f-ae34-1dba3fadc11f",
   "metadata": {},
   "outputs": [
    {
     "data": {
      "text/plain": [
       "0.0867037988740614"
      ]
     },
     "execution_count": 46,
     "metadata": {},
     "output_type": "execute_result"
    }
   ],
   "source": [
    "#hidden layer\n",
    "n_w1=w1-rate*((((-(o1-actO1)*o1*(1-o1))*w5)*(-(o2-actO2)*o2*(1-o2))*w6)*i1)\n",
    "n_w1"
   ]
  },
  {
   "cell_type": "code",
   "execution_count": 47,
   "id": "f4d8ea05-b958-4681-8fa8-594cd7d2f36c",
   "metadata": {},
   "outputs": [
    {
     "data": {
      "text/plain": [
       "-0.2270549784405044"
      ]
     },
     "execution_count": 47,
     "metadata": {},
     "output_type": "execute_result"
    }
   ],
   "source": [
    "n_w2=w2-rate*((((-(o1-actO1)*o1*(1-o1))*w7)*(-(o2-actO2)*o2*(1-o2))*w8)*i1)\n",
    "n_w2"
   ]
  },
  {
   "cell_type": "code",
   "execution_count": 48,
   "id": "d5d0b6e3-3014-498c-bb65-d4d5e4e249a8",
   "metadata": {},
   "outputs": [
    {
     "data": {
      "text/plain": [
       "-0.018277905635808174"
      ]
     },
     "execution_count": 48,
     "metadata": {},
     "output_type": "execute_result"
    }
   ],
   "source": [
    "n_w3=w3-rate*((((-(o1-actO1)*o1*(1-o1))*w5)*(-(o2-actO2)*o2*(1-o2))*w6)*i2)\n",
    "n_w3"
   ]
  },
  {
   "cell_type": "code",
   "execution_count": 49,
   "id": "be43c63b-c277-4edd-b0ee-08abfb1ca7e3",
   "metadata": {},
   "outputs": [
    {
     "data": {
      "text/plain": [
       "0.22841323084926604"
      ]
     },
     "execution_count": 49,
     "metadata": {},
     "output_type": "execute_result"
    }
   ],
   "source": [
    "n_w4=w4-rate*((((-(o1-actO1)*o1*(1-o1))*w7)*(-(o2-actO2)*o2*(1-o2))*w8)*i2)\n",
    "n_w4"
   ]
  },
  {
   "cell_type": "code",
   "execution_count": null,
   "id": "cf163942-5686-4c6e-a756-3615ce391d68",
   "metadata": {},
   "outputs": [],
   "source": []
  },
  {
   "cell_type": "code",
   "execution_count": null,
   "id": "8a52e30b-0c04-4183-87eb-1155c544f98c",
   "metadata": {},
   "outputs": [],
   "source": []
  },
  {
   "cell_type": "code",
   "execution_count": null,
   "id": "088fa214-3b00-425b-a53e-b280ad0a0103",
   "metadata": {},
   "outputs": [],
   "source": []
  }
 ],
 "metadata": {
  "kernelspec": {
   "display_name": "Python 3 (ipykernel)",
   "language": "python",
   "name": "python3"
  },
  "language_info": {
   "codemirror_mode": {
    "name": "ipython",
    "version": 3
   },
   "file_extension": ".py",
   "mimetype": "text/x-python",
   "name": "python",
   "nbconvert_exporter": "python",
   "pygments_lexer": "ipython3",
   "version": "3.12.7"
  }
 },
 "nbformat": 4,
 "nbformat_minor": 5
}
